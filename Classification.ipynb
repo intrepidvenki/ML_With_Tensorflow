{
 "cells": [
  {
   "cell_type": "markdown",
   "metadata": {},
   "source": [
    "Classification "
   ]
  },
  {
   "cell_type": "code",
   "execution_count": 1,
   "metadata": {},
   "outputs": [],
   "source": [
    "from __future__ import absolute_import, division, print_function, unicode_literals\n",
    "\n",
    "\n",
    "import tensorflow as tf\n",
    "\n",
    "import pandas as pd"
   ]
  },
  {
   "cell_type": "markdown",
   "metadata": {},
   "source": []
  },
  {
   "cell_type": "markdown",
   "metadata": {},
   "source": [
    "Dataset\n",
    "This specific dataset seperates flowers into 3 different classes of species.\n",
    "\n",
    "Setosa\n",
    "Versicolor\n",
    "Virginica\n",
    "The information about each flower is the following.\n",
    "\n",
    "sepal length\n",
    "sepal width\n",
    "petal length\n",
    "petal width"
   ]
  },
  {
   "cell_type": "code",
   "execution_count": 2,
   "metadata": {},
   "outputs": [],
   "source": [
    "CSV_COLUMN_NAMES = ['SepalLength', 'SepalWidth', 'PetalLength', 'PetalWidth', 'Species']\n",
    "SPECIES = ['Setosa', 'Versicolor', 'Virginica']"
   ]
  },
  {
   "cell_type": "code",
   "execution_count": 3,
   "metadata": {},
   "outputs": [],
   "source": [
    "train_path = tf.keras.utils.get_file(\n",
    "    \"iris_training.csv\", \"https://storage.googleapis.com/download.tensorflow.org/data/iris_training.csv\")\n",
    "test_path = tf.keras.utils.get_file(\n",
    "    \"iris_test.csv\", \"https://storage.googleapis.com/download.tensorflow.org/data/iris_test.csv\")\n",
    "\n",
    "train = pd.read_csv(train_path, names=CSV_COLUMN_NAMES, header=0)\n",
    "test = pd.read_csv(test_path, names=CSV_COLUMN_NAMES, header=0)\n"
   ]
  },
  {
   "cell_type": "code",
   "execution_count": 4,
   "metadata": {},
   "outputs": [
    {
     "data": {
      "text/html": [
       "<div>\n",
       "<style scoped>\n",
       "    .dataframe tbody tr th:only-of-type {\n",
       "        vertical-align: middle;\n",
       "    }\n",
       "\n",
       "    .dataframe tbody tr th {\n",
       "        vertical-align: top;\n",
       "    }\n",
       "\n",
       "    .dataframe thead th {\n",
       "        text-align: right;\n",
       "    }\n",
       "</style>\n",
       "<table border=\"1\" class=\"dataframe\">\n",
       "  <thead>\n",
       "    <tr style=\"text-align: right;\">\n",
       "      <th></th>\n",
       "      <th>SepalLength</th>\n",
       "      <th>SepalWidth</th>\n",
       "      <th>PetalLength</th>\n",
       "      <th>PetalWidth</th>\n",
       "      <th>Species</th>\n",
       "    </tr>\n",
       "  </thead>\n",
       "  <tbody>\n",
       "    <tr>\n",
       "      <th>0</th>\n",
       "      <td>6.4</td>\n",
       "      <td>2.8</td>\n",
       "      <td>5.6</td>\n",
       "      <td>2.2</td>\n",
       "      <td>2</td>\n",
       "    </tr>\n",
       "    <tr>\n",
       "      <th>1</th>\n",
       "      <td>5.0</td>\n",
       "      <td>2.3</td>\n",
       "      <td>3.3</td>\n",
       "      <td>1.0</td>\n",
       "      <td>1</td>\n",
       "    </tr>\n",
       "    <tr>\n",
       "      <th>2</th>\n",
       "      <td>4.9</td>\n",
       "      <td>2.5</td>\n",
       "      <td>4.5</td>\n",
       "      <td>1.7</td>\n",
       "      <td>2</td>\n",
       "    </tr>\n",
       "    <tr>\n",
       "      <th>3</th>\n",
       "      <td>4.9</td>\n",
       "      <td>3.1</td>\n",
       "      <td>1.5</td>\n",
       "      <td>0.1</td>\n",
       "      <td>0</td>\n",
       "    </tr>\n",
       "    <tr>\n",
       "      <th>4</th>\n",
       "      <td>5.7</td>\n",
       "      <td>3.8</td>\n",
       "      <td>1.7</td>\n",
       "      <td>0.3</td>\n",
       "      <td>0</td>\n",
       "    </tr>\n",
       "  </tbody>\n",
       "</table>\n",
       "</div>"
      ],
      "text/plain": [
       "   SepalLength  SepalWidth  PetalLength  PetalWidth  Species\n",
       "0          6.4         2.8          5.6         2.2        2\n",
       "1          5.0         2.3          3.3         1.0        1\n",
       "2          4.9         2.5          4.5         1.7        2\n",
       "3          4.9         3.1          1.5         0.1        0\n",
       "4          5.7         3.8          1.7         0.3        0"
      ]
     },
     "execution_count": 4,
     "metadata": {},
     "output_type": "execute_result"
    }
   ],
   "source": [
    "train.head()"
   ]
  },
  {
   "cell_type": "code",
   "execution_count": 5,
   "metadata": {},
   "outputs": [
    {
     "data": {
      "text/html": [
       "<div>\n",
       "<style scoped>\n",
       "    .dataframe tbody tr th:only-of-type {\n",
       "        vertical-align: middle;\n",
       "    }\n",
       "\n",
       "    .dataframe tbody tr th {\n",
       "        vertical-align: top;\n",
       "    }\n",
       "\n",
       "    .dataframe thead th {\n",
       "        text-align: right;\n",
       "    }\n",
       "</style>\n",
       "<table border=\"1\" class=\"dataframe\">\n",
       "  <thead>\n",
       "    <tr style=\"text-align: right;\">\n",
       "      <th></th>\n",
       "      <th>SepalLength</th>\n",
       "      <th>SepalWidth</th>\n",
       "      <th>PetalLength</th>\n",
       "      <th>PetalWidth</th>\n",
       "    </tr>\n",
       "  </thead>\n",
       "  <tbody>\n",
       "    <tr>\n",
       "      <th>0</th>\n",
       "      <td>6.4</td>\n",
       "      <td>2.8</td>\n",
       "      <td>5.6</td>\n",
       "      <td>2.2</td>\n",
       "    </tr>\n",
       "    <tr>\n",
       "      <th>1</th>\n",
       "      <td>5.0</td>\n",
       "      <td>2.3</td>\n",
       "      <td>3.3</td>\n",
       "      <td>1.0</td>\n",
       "    </tr>\n",
       "    <tr>\n",
       "      <th>2</th>\n",
       "      <td>4.9</td>\n",
       "      <td>2.5</td>\n",
       "      <td>4.5</td>\n",
       "      <td>1.7</td>\n",
       "    </tr>\n",
       "    <tr>\n",
       "      <th>3</th>\n",
       "      <td>4.9</td>\n",
       "      <td>3.1</td>\n",
       "      <td>1.5</td>\n",
       "      <td>0.1</td>\n",
       "    </tr>\n",
       "    <tr>\n",
       "      <th>4</th>\n",
       "      <td>5.7</td>\n",
       "      <td>3.8</td>\n",
       "      <td>1.7</td>\n",
       "      <td>0.3</td>\n",
       "    </tr>\n",
       "  </tbody>\n",
       "</table>\n",
       "</div>"
      ],
      "text/plain": [
       "   SepalLength  SepalWidth  PetalLength  PetalWidth\n",
       "0          6.4         2.8          5.6         2.2\n",
       "1          5.0         2.3          3.3         1.0\n",
       "2          4.9         2.5          4.5         1.7\n",
       "3          4.9         3.1          1.5         0.1\n",
       "4          5.7         3.8          1.7         0.3"
      ]
     },
     "execution_count": 5,
     "metadata": {},
     "output_type": "execute_result"
    }
   ],
   "source": [
    "train_y = train.pop('Species')\n",
    "test_y = test.pop('Species')\n",
    "train.head()"
   ]
  },
  {
   "cell_type": "code",
   "execution_count": 6,
   "metadata": {},
   "outputs": [
    {
     "data": {
      "text/plain": [
       "(120, 4)"
      ]
     },
     "execution_count": 6,
     "metadata": {},
     "output_type": "execute_result"
    }
   ],
   "source": [
    "train.shape "
   ]
  },
  {
   "cell_type": "code",
   "execution_count": 7,
   "metadata": {},
   "outputs": [],
   "source": [
    "def input_fn(features, labels, training = True, batch_size = 256):\n",
    "    dataset = tf.data.Dataset.from_tensor_slices((dict(features), labels))\n",
    "\n",
    "    if training:\n",
    "        dataset = dataset.shuffle(1000).repeat()\n",
    "    \n",
    "    return dataset.batch(batch_size)"
   ]
  },
  {
   "cell_type": "code",
   "execution_count": 8,
   "metadata": {},
   "outputs": [
    {
     "name": "stdout",
     "output_type": "stream",
     "text": [
      "WARNING:tensorflow:From <ipython-input-8-ac840b081260>:3: numeric_column (from tensorflow.python.feature_column.feature_column_v2) is deprecated and will be removed in a future version.\n",
      "Instructions for updating:\n",
      "Use Keras preprocessing layers instead, either directly or via the `tf.keras.utils.FeatureSpace` utility. Each of `tf.feature_column.*` has a functional equivalent in `tf.keras.layers` for feature preprocessing when training a Keras model.\n",
      "[NumericColumn(key='SepalLength', shape=(1,), default_value=None, dtype=tf.float32, normalizer_fn=None), NumericColumn(key='SepalWidth', shape=(1,), default_value=None, dtype=tf.float32, normalizer_fn=None), NumericColumn(key='PetalLength', shape=(1,), default_value=None, dtype=tf.float32, normalizer_fn=None), NumericColumn(key='PetalWidth', shape=(1,), default_value=None, dtype=tf.float32, normalizer_fn=None)]\n"
     ]
    }
   ],
   "source": [
    "my_feature_columns = []\n",
    "for key in train.keys():\n",
    "    my_feature_columns.append(tf.feature_column.numeric_column(key=key))\n",
    "print(my_feature_columns)"
   ]
  },
  {
   "cell_type": "code",
   "execution_count": 9,
   "metadata": {},
   "outputs": [
    {
     "name": "stdout",
     "output_type": "stream",
     "text": [
      "WARNING:tensorflow:From <ipython-input-9-ee657b7aa758>:1: DNNClassifierV2.__init__ (from tensorflow_estimator.python.estimator.canned.dnn) is deprecated and will be removed in a future version.\n",
      "Instructions for updating:\n",
      "Use tf.keras instead.\n",
      "WARNING:tensorflow:From c:\\Users\\venki\\anaconda3\\lib\\site-packages\\tensorflow_estimator\\python\\estimator\\head\\head_utils.py:59: MultiClassHead.__init__ (from tensorflow_estimator.python.estimator.head.multi_class_head) is deprecated and will be removed in a future version.\n",
      "Instructions for updating:\n",
      "Use tf.keras instead.\n",
      "WARNING:tensorflow:From c:\\Users\\venki\\anaconda3\\lib\\site-packages\\tensorflow_estimator\\python\\estimator\\canned\\dnn.py:759: Estimator.__init__ (from tensorflow_estimator.python.estimator.estimator) is deprecated and will be removed in a future version.\n",
      "Instructions for updating:\n",
      "Use tf.keras instead.\n",
      "WARNING:tensorflow:From c:\\Users\\venki\\anaconda3\\lib\\site-packages\\tensorflow_estimator\\python\\estimator\\estimator.py:1842: RunConfig.__init__ (from tensorflow_estimator.python.estimator.run_config) is deprecated and will be removed in a future version.\n",
      "Instructions for updating:\n",
      "Use tf.keras instead.\n",
      "INFO:tensorflow:Using default config.\n",
      "WARNING:tensorflow:Using temporary folder as model directory: C:\\Users\\venki\\AppData\\Local\\Temp\\tmpls223p2q\n",
      "INFO:tensorflow:Using config: {'_model_dir': 'C:\\\\Users\\\\venki\\\\AppData\\\\Local\\\\Temp\\\\tmpls223p2q', '_tf_random_seed': None, '_save_summary_steps': 100, '_save_checkpoints_steps': None, '_save_checkpoints_secs': 600, '_session_config': allow_soft_placement: true\n",
      "graph_options {\n",
      "  rewrite_options {\n",
      "    meta_optimizer_iterations: ONE\n",
      "  }\n",
      "}\n",
      ", '_keep_checkpoint_max': 5, '_keep_checkpoint_every_n_hours': 10000, '_log_step_count_steps': 100, '_train_distribute': None, '_device_fn': None, '_protocol': None, '_eval_distribute': None, '_experimental_distribute': None, '_experimental_max_worker_delay_secs': None, '_session_creation_timeout_secs': 7200, '_checkpoint_save_graph_def': True, '_service': None, '_cluster_spec': ClusterSpec({}), '_task_type': 'worker', '_task_id': 0, '_global_id_in_cluster': 0, '_master': '', '_evaluation_master': '', '_is_chief': True, '_num_ps_replicas': 0, '_num_worker_replicas': 1}\n"
     ]
    }
   ],
   "source": [
    "classifier = tf.estimator.DNNClassifier(\n",
    "    feature_columns = my_feature_columns,\n",
    "    hidden_units = [30,10],\n",
    "    n_classes =3\n",
    ")"
   ]
  },
  {
   "cell_type": "code",
   "execution_count": 10,
   "metadata": {},
   "outputs": [
    {
     "name": "stdout",
     "output_type": "stream",
     "text": [
      "WARNING:tensorflow:From c:\\Users\\venki\\anaconda3\\lib\\site-packages\\tensorflow_estimator\\python\\estimator\\estimator.py:385: StopAtStepHook.__init__ (from tensorflow.python.training.basic_session_run_hooks) is deprecated and will be removed in a future version.\n",
      "Instructions for updating:\n",
      "Use tf.keras instead.\n",
      "WARNING:tensorflow:From c:\\Users\\venki\\anaconda3\\lib\\site-packages\\tensorflow\\python\\training\\training_util.py:396: Variable.initialized_value (from tensorflow.python.ops.variables) is deprecated and will be removed in a future version.\n",
      "Instructions for updating:\n",
      "Use Variable.read_value. Variables in 2.X are initialized automatically both in eager and graph (inside tf.defun) contexts.\n",
      "INFO:tensorflow:Calling model_fn.\n",
      "WARNING:tensorflow:From c:\\Users\\venki\\anaconda3\\lib\\site-packages\\keras\\optimizers\\legacy\\adagrad.py:93: calling Constant.__init__ (from tensorflow.python.ops.init_ops) with dtype is deprecated and will be removed in a future version.\n",
      "Instructions for updating:\n",
      "Call initializer instance with the dtype argument instead of passing it to the constructor\n",
      "WARNING:tensorflow:From c:\\Users\\venki\\anaconda3\\lib\\site-packages\\tensorflow_estimator\\python\\estimator\\model_fn.py:250: EstimatorSpec.__new__ (from tensorflow_estimator.python.estimator.model_fn) is deprecated and will be removed in a future version.\n",
      "Instructions for updating:\n",
      "Use tf.keras instead.\n",
      "INFO:tensorflow:Done calling model_fn.\n",
      "WARNING:tensorflow:From c:\\Users\\venki\\anaconda3\\lib\\site-packages\\tensorflow_estimator\\python\\estimator\\estimator.py:1414: NanTensorHook.__init__ (from tensorflow.python.training.basic_session_run_hooks) is deprecated and will be removed in a future version.\n",
      "Instructions for updating:\n",
      "Use tf.keras instead.\n",
      "WARNING:tensorflow:From c:\\Users\\venki\\anaconda3\\lib\\site-packages\\tensorflow_estimator\\python\\estimator\\estimator.py:1417: LoggingTensorHook.__init__ (from tensorflow.python.training.basic_session_run_hooks) is deprecated and will be removed in a future version.\n",
      "Instructions for updating:\n",
      "Use tf.keras instead.\n",
      "WARNING:tensorflow:From c:\\Users\\venki\\anaconda3\\lib\\site-packages\\tensorflow\\python\\training\\basic_session_run_hooks.py:232: SecondOrStepTimer.__init__ (from tensorflow.python.training.basic_session_run_hooks) is deprecated and will be removed in a future version.\n",
      "Instructions for updating:\n",
      "Use tf.keras instead.\n",
      "WARNING:tensorflow:From c:\\Users\\venki\\anaconda3\\lib\\site-packages\\tensorflow_estimator\\python\\estimator\\estimator.py:1454: CheckpointSaverHook.__init__ (from tensorflow.python.training.basic_session_run_hooks) is deprecated and will be removed in a future version.\n",
      "Instructions for updating:\n",
      "Use tf.keras instead.\n",
      "INFO:tensorflow:Create CheckpointSaverHook.\n",
      "WARNING:tensorflow:From c:\\Users\\venki\\anaconda3\\lib\\site-packages\\tensorflow\\python\\training\\monitored_session.py:579: StepCounterHook.__init__ (from tensorflow.python.training.basic_session_run_hooks) is deprecated and will be removed in a future version.\n",
      "Instructions for updating:\n",
      "Use tf.keras instead.\n",
      "WARNING:tensorflow:From c:\\Users\\venki\\anaconda3\\lib\\site-packages\\tensorflow\\python\\training\\monitored_session.py:586: SummarySaverHook.__init__ (from tensorflow.python.training.basic_session_run_hooks) is deprecated and will be removed in a future version.\n",
      "Instructions for updating:\n",
      "Use tf.keras instead.\n",
      "INFO:tensorflow:Graph was finalized.\n",
      "INFO:tensorflow:Running local_init_op.\n",
      "INFO:tensorflow:Done running local_init_op.\n",
      "INFO:tensorflow:Calling checkpoint listeners before saving checkpoint 0...\n",
      "INFO:tensorflow:Saving checkpoints for 0 into C:\\Users\\venki\\AppData\\Local\\Temp\\tmpls223p2q\\model.ckpt.\n",
      "INFO:tensorflow:Calling checkpoint listeners after saving checkpoint 0...\n",
      "WARNING:tensorflow:From c:\\Users\\venki\\anaconda3\\lib\\site-packages\\tensorflow\\python\\training\\monitored_session.py:1455: SessionRunArgs.__new__ (from tensorflow.python.training.session_run_hook) is deprecated and will be removed in a future version.\n",
      "Instructions for updating:\n",
      "Use tf.keras instead.\n",
      "WARNING:tensorflow:From c:\\Users\\venki\\anaconda3\\lib\\site-packages\\tensorflow\\python\\training\\monitored_session.py:1454: SessionRunContext.__init__ (from tensorflow.python.training.session_run_hook) is deprecated and will be removed in a future version.\n",
      "Instructions for updating:\n",
      "Use tf.keras instead.\n",
      "WARNING:tensorflow:From c:\\Users\\venki\\anaconda3\\lib\\site-packages\\tensorflow\\python\\training\\monitored_session.py:1474: SessionRunValues.__new__ (from tensorflow.python.training.session_run_hook) is deprecated and will be removed in a future version.\n",
      "Instructions for updating:\n",
      "Use tf.keras instead.\n",
      "INFO:tensorflow:loss = 2.008719, step = 0\n",
      "INFO:tensorflow:global_step/sec: 492.365\n",
      "INFO:tensorflow:loss = 1.2203944, step = 100 (0.211 sec)\n",
      "INFO:tensorflow:global_step/sec: 687.97\n",
      "INFO:tensorflow:loss = 1.1130066, step = 200 (0.145 sec)\n",
      "INFO:tensorflow:global_step/sec: 654.986\n",
      "INFO:tensorflow:loss = 1.0550253, step = 300 (0.145 sec)\n",
      "INFO:tensorflow:global_step/sec: 618.383\n",
      "INFO:tensorflow:loss = 1.0136229, step = 400 (0.162 sec)\n",
      "INFO:tensorflow:global_step/sec: 633.954\n",
      "INFO:tensorflow:loss = 0.983835, step = 500 (0.158 sec)\n",
      "INFO:tensorflow:global_step/sec: 684.479\n",
      "INFO:tensorflow:loss = 0.9577122, step = 600 (0.146 sec)\n",
      "INFO:tensorflow:global_step/sec: 691.87\n",
      "INFO:tensorflow:loss = 0.936877, step = 700 (0.145 sec)\n",
      "INFO:tensorflow:global_step/sec: 777.112\n",
      "INFO:tensorflow:loss = 0.9150013, step = 800 (0.129 sec)\n",
      "INFO:tensorflow:global_step/sec: 731.997\n",
      "INFO:tensorflow:loss = 0.89694035, step = 900 (0.137 sec)\n",
      "INFO:tensorflow:global_step/sec: 691.761\n",
      "INFO:tensorflow:loss = 0.87961113, step = 1000 (0.145 sec)\n",
      "INFO:tensorflow:global_step/sec: 722.897\n",
      "INFO:tensorflow:loss = 0.86160564, step = 1100 (0.138 sec)\n",
      "INFO:tensorflow:global_step/sec: 781.531\n",
      "INFO:tensorflow:loss = 0.8505702, step = 1200 (0.128 sec)\n",
      "INFO:tensorflow:global_step/sec: 728.95\n",
      "INFO:tensorflow:loss = 0.830129, step = 1300 (0.137 sec)\n",
      "INFO:tensorflow:global_step/sec: 689.381\n",
      "INFO:tensorflow:loss = 0.8161253, step = 1400 (0.146 sec)\n",
      "INFO:tensorflow:global_step/sec: 726.348\n",
      "INFO:tensorflow:loss = 0.8048425, step = 1500 (0.137 sec)\n",
      "INFO:tensorflow:global_step/sec: 772.735\n",
      "INFO:tensorflow:loss = 0.7986225, step = 1600 (0.129 sec)\n",
      "INFO:tensorflow:global_step/sec: 688.389\n",
      "INFO:tensorflow:loss = 0.7850746, step = 1700 (0.145 sec)\n",
      "INFO:tensorflow:global_step/sec: 692.986\n",
      "INFO:tensorflow:loss = 0.771981, step = 1800 (0.144 sec)\n",
      "INFO:tensorflow:global_step/sec: 729.532\n",
      "INFO:tensorflow:loss = 0.75462234, step = 1900 (0.145 sec)\n",
      "INFO:tensorflow:global_step/sec: 605.53\n",
      "INFO:tensorflow:loss = 0.7428632, step = 2000 (0.160 sec)\n",
      "INFO:tensorflow:global_step/sec: 645.671\n",
      "INFO:tensorflow:loss = 0.7352145, step = 2100 (0.153 sec)\n",
      "INFO:tensorflow:global_step/sec: 725.252\n",
      "INFO:tensorflow:loss = 0.73010844, step = 2200 (0.138 sec)\n",
      "INFO:tensorflow:global_step/sec: 700.956\n",
      "INFO:tensorflow:loss = 0.72348493, step = 2300 (0.145 sec)\n",
      "INFO:tensorflow:global_step/sec: 728.338\n",
      "INFO:tensorflow:loss = 0.7082855, step = 2400 (0.135 sec)\n",
      "INFO:tensorflow:global_step/sec: 774.267\n",
      "INFO:tensorflow:loss = 0.7007506, step = 2500 (0.138 sec)\n",
      "INFO:tensorflow:global_step/sec: 770.24\n",
      "INFO:tensorflow:loss = 0.6836041, step = 2600 (0.129 sec)\n",
      "INFO:tensorflow:global_step/sec: 651.221\n",
      "INFO:tensorflow:loss = 0.6818464, step = 2700 (0.146 sec)\n",
      "INFO:tensorflow:global_step/sec: 690.876\n",
      "INFO:tensorflow:loss = 0.6822746, step = 2800 (0.147 sec)\n",
      "INFO:tensorflow:global_step/sec: 686.778\n",
      "INFO:tensorflow:loss = 0.6585226, step = 2900 (0.143 sec)\n",
      "INFO:tensorflow:global_step/sec: 693.281\n",
      "INFO:tensorflow:loss = 0.66228163, step = 3000 (0.144 sec)\n",
      "INFO:tensorflow:global_step/sec: 723.812\n",
      "INFO:tensorflow:loss = 0.6531512, step = 3100 (0.138 sec)\n",
      "INFO:tensorflow:global_step/sec: 698.322\n",
      "INFO:tensorflow:loss = 0.64641833, step = 3200 (0.151 sec)\n",
      "INFO:tensorflow:global_step/sec: 649.282\n",
      "INFO:tensorflow:loss = 0.6447557, step = 3300 (0.146 sec)\n",
      "INFO:tensorflow:global_step/sec: 693.449\n",
      "INFO:tensorflow:loss = 0.62878233, step = 3400 (0.152 sec)\n",
      "INFO:tensorflow:global_step/sec: 650.7\n",
      "INFO:tensorflow:loss = 0.6224689, step = 3500 (0.146 sec)\n",
      "INFO:tensorflow:global_step/sec: 606.429\n",
      "INFO:tensorflow:loss = 0.6204301, step = 3600 (0.167 sec)\n",
      "INFO:tensorflow:global_step/sec: 611.865\n",
      "INFO:tensorflow:loss = 0.62299734, step = 3700 (0.164 sec)\n",
      "INFO:tensorflow:global_step/sec: 679.289\n",
      "INFO:tensorflow:loss = 0.6100651, step = 3800 (0.153 sec)\n",
      "INFO:tensorflow:global_step/sec: 727.107\n",
      "INFO:tensorflow:loss = 0.6001496, step = 3900 (0.129 sec)\n",
      "INFO:tensorflow:global_step/sec: 685.236\n",
      "INFO:tensorflow:loss = 0.5874976, step = 4000 (0.146 sec)\n",
      "INFO:tensorflow:global_step/sec: 683.864\n",
      "INFO:tensorflow:loss = 0.58725864, step = 4100 (0.149 sec)\n",
      "INFO:tensorflow:global_step/sec: 693.351\n",
      "INFO:tensorflow:loss = 0.59514356, step = 4200 (0.150 sec)\n",
      "INFO:tensorflow:global_step/sec: 652.167\n",
      "INFO:tensorflow:loss = 0.59145695, step = 4300 (0.145 sec)\n",
      "INFO:tensorflow:global_step/sec: 691.717\n",
      "INFO:tensorflow:loss = 0.567702, step = 4400 (0.145 sec)\n",
      "INFO:tensorflow:global_step/sec: 653.394\n",
      "INFO:tensorflow:loss = 0.567749, step = 4500 (0.153 sec)\n",
      "INFO:tensorflow:global_step/sec: 689.745\n",
      "INFO:tensorflow:loss = 0.5575001, step = 4600 (0.154 sec)\n",
      "INFO:tensorflow:global_step/sec: 652.045\n",
      "INFO:tensorflow:loss = 0.5677562, step = 4700 (0.145 sec)\n",
      "INFO:tensorflow:global_step/sec: 726.01\n",
      "INFO:tensorflow:loss = 0.56486547, step = 4800 (0.138 sec)\n",
      "INFO:tensorflow:global_step/sec: 691.168\n",
      "INFO:tensorflow:loss = 0.5658319, step = 4900 (0.145 sec)\n",
      "INFO:tensorflow:Calling checkpoint listeners before saving checkpoint 5000...\n",
      "INFO:tensorflow:Saving checkpoints for 5000 into C:\\Users\\venki\\AppData\\Local\\Temp\\tmpls223p2q\\model.ckpt.\n",
      "INFO:tensorflow:Calling checkpoint listeners after saving checkpoint 5000...\n",
      "INFO:tensorflow:Loss for final step: 0.5548018.\n"
     ]
    },
    {
     "data": {
      "text/plain": [
       "<tensorflow_estimator.python.estimator.canned.dnn.DNNClassifierV2 at 0x1fe7246d910>"
      ]
     },
     "execution_count": 10,
     "metadata": {},
     "output_type": "execute_result"
    }
   ],
   "source": [
    "classifier.train(\n",
    "    input_fn = lambda: input_fn(train, train_y, training=True),\n",
    "    steps = 5000\n",
    ")"
   ]
  },
  {
   "cell_type": "code",
   "execution_count": 11,
   "metadata": {},
   "outputs": [
    {
     "name": "stdout",
     "output_type": "stream",
     "text": [
      "INFO:tensorflow:Calling model_fn.\n"
     ]
    },
    {
     "name": "stdout",
     "output_type": "stream",
     "text": [
      "INFO:tensorflow:Done calling model_fn.\n",
      "INFO:tensorflow:Starting evaluation at 2024-03-01T00:02:17\n",
      "WARNING:tensorflow:From c:\\Users\\venki\\anaconda3\\lib\\site-packages\\tensorflow\\python\\training\\evaluation.py:260: FinalOpsHook.__init__ (from tensorflow.python.training.basic_session_run_hooks) is deprecated and will be removed in a future version.\n",
      "Instructions for updating:\n",
      "Use tf.keras instead.\n",
      "INFO:tensorflow:Graph was finalized.\n",
      "INFO:tensorflow:Restoring parameters from C:\\Users\\venki\\AppData\\Local\\Temp\\tmpls223p2q\\model.ckpt-5000\n",
      "INFO:tensorflow:Running local_init_op.\n",
      "INFO:tensorflow:Done running local_init_op.\n",
      "INFO:tensorflow:Inference Time : 1.68412s\n",
      "INFO:tensorflow:Finished evaluation at 2024-03-01-00:02:19\n",
      "INFO:tensorflow:Saving dict for global step 5000: accuracy = 0.53333336, average_loss = 0.6391609, global_step = 5000, loss = 0.6391609\n",
      "INFO:tensorflow:Saving 'checkpoint_path' summary for global step 5000: C:\\Users\\venki\\AppData\\Local\\Temp\\tmpls223p2q\\model.ckpt-5000\n",
      "\n",
      " Test set acc: 0.533\n",
      "\n"
     ]
    }
   ],
   "source": [
    "eval_results = classifier.evaluate(\n",
    "    input_fn = lambda: input_fn(test, test_y, training=False))\n",
    "\n",
    "print('\\n Test set acc: {accuracy:0.3f}\\n'. format(**eval_results))"
   ]
  },
  {
   "cell_type": "code",
   "execution_count": 1,
   "metadata": {},
   "outputs": [
    {
     "name": "stdout",
     "output_type": "stream",
     "text": [
      "Please type numeric values as prompted.\n",
      "\n"
     ]
    }
   ],
   "source": [
    "def input_fn(features, batch_size=256):\n",
    "    # Convert the inputs to a Dataset without labels.\n",
    "    return tf.data.Dataset.from_tensor_slices(dict(features)).batch(batch_size)\n",
    "\n",
    "features = ['SepalLength', 'SepalWidth', 'PetalLength', 'PetalWidth']\n",
    "predict = {}\n",
    "\n",
    "print(\"Please type numeric values as prompted.\\n\")\n",
    "for feature in features:\n",
    "    valid = True\n",
    "    while valid: \n",
    "        val = input(feature + \": \")\n",
    "        if not val.isdigit(): valid = False\n",
    "\n",
    "    predict[feature] = [float(val)]\n",
    "\n",
    "predictions = classifier.predict(input_fn=lambda: input_fn(predict))\n",
    "for pred_dict in predictions:\n",
    "    class_id = pred_dict['class_ids'][0]\n",
    "    probability = pred_dict['probabilities'][class_id]\n",
    "\n",
    "    print('Prediction is \"{}\" ({:.1f}%)'.format(\n",
    "        SPECIES[class_id], 100 * probability))\n"
   ]
  },
  {
   "cell_type": "code",
   "execution_count": null,
   "metadata": {},
   "outputs": [],
   "source": []
  }
 ],
 "metadata": {
  "kernelspec": {
   "display_name": "Python 3",
   "language": "python",
   "name": "python3"
  },
  "language_info": {
   "codemirror_mode": {
    "name": "ipython",
    "version": 3
   },
   "file_extension": ".py",
   "mimetype": "text/x-python",
   "name": "python",
   "nbconvert_exporter": "python",
   "pygments_lexer": "ipython3",
   "version": "3.8.8"
  }
 },
 "nbformat": 4,
 "nbformat_minor": 2
}
