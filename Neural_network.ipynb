{
 "cells": [
  {
   "cell_type": "code",
   "execution_count": 14,
   "metadata": {},
   "outputs": [],
   "source": [
    "import tensorflow as tf \n",
    "from tensorflow import keras"
   ]
  },
  {
   "cell_type": "code",
   "execution_count": 24,
   "metadata": {},
   "outputs": [
    {
     "name": "stdout",
     "output_type": "stream",
     "text": [
      "Requirement already satisfied: matplotlib in c:\\users\\venki\\anaconda3\\lib\\site-packages (3.6.2)Note: you may need to restart the kernel to use updated packages.\n",
      "Requirement already satisfied: fonttools>=4.22.0 in c:\\users\\venki\\anaconda3\\lib\\site-packages (from matplotlib) (4.38.0)\n",
      "Requirement already satisfied: pyparsing>=2.2.1 in c:\\users\\venki\\anaconda3\\lib\\site-packages (from matplotlib) (2.4.7)\n",
      "Requirement already satisfied: numpy>=1.19 in c:\\users\\venki\\anaconda3\\lib\\site-packages (from matplotlib) (1.22.4)\n",
      "Requirement already satisfied: packaging>=20.0 in c:\\users\\venki\\anaconda3\\lib\\site-packages (from matplotlib) (23.1)\n",
      "Requirement already satisfied: contourpy>=1.0.1 in c:\\users\\venki\\anaconda3\\lib\\site-packages (from matplotlib) (1.0.6)\n",
      "Requirement already satisfied: pillow>=6.2.0 in c:\\users\\venki\\anaconda3\\lib\\site-packages (from matplotlib) (8.2.0)\n",
      "Requirement already satisfied: python-dateutil>=2.7 in c:\\users\\venki\\anaconda3\\lib\\site-packages (from matplotlib) (2.8.2)\n",
      "Requirement already satisfied: cycler>=0.10 in c:\\users\\venki\\anaconda3\\lib\\site-packages (from matplotlib) (0.10.0)\n",
      "Requirement already satisfied: kiwisolver>=1.0.1 in c:\\users\\venki\\anaconda3\\lib\\site-packages (from matplotlib) (1.3.1)\n",
      "Requirement already satisfied: six in c:\\users\\venki\\anaconda3\\lib\\site-packages (from cycler>=0.10->matplotlib) (1.15.0)\n",
      "\n"
     ]
    }
   ],
   "source": [
    "%pip install matplotlib"
   ]
  },
  {
   "cell_type": "code",
   "execution_count": 46,
   "metadata": {},
   "outputs": [],
   "source": [
    "import numpy as np \n",
    "import matplotlib.pyplot as plt "
   ]
  },
  {
   "cell_type": "code",
   "execution_count": 16,
   "metadata": {},
   "outputs": [],
   "source": [
    "fashion_mnist = keras.datasets.fashion_mnist  # load dataset\n",
    "\n",
    "(train_images, train_labels), (test_images, test_labels) = fashion_mnist.load_data()  # split into tetsing and training"
   ]
  },
  {
   "cell_type": "code",
   "execution_count": 17,
   "metadata": {},
   "outputs": [
    {
     "data": {
      "text/plain": [
       "numpy.ndarray"
      ]
     },
     "execution_count": 17,
     "metadata": {},
     "output_type": "execute_result"
    }
   ],
   "source": [
    "train_images.shape\n",
    "type(train_images)"
   ]
  },
  {
   "cell_type": "code",
   "execution_count": 18,
   "metadata": {},
   "outputs": [
    {
     "data": {
      "text/plain": [
       "194"
      ]
     },
     "execution_count": 18,
     "metadata": {},
     "output_type": "execute_result"
    }
   ],
   "source": [
    "train_images[0,23,23]"
   ]
  },
  {
   "cell_type": "code",
   "execution_count": 19,
   "metadata": {},
   "outputs": [
    {
     "data": {
      "text/plain": [
       "array([9, 0, 0, 3, 0, 2, 7, 2, 5, 5], dtype=uint8)"
      ]
     },
     "execution_count": 19,
     "metadata": {},
     "output_type": "execute_result"
    }
   ],
   "source": [
    "train_labels[:10]"
   ]
  },
  {
   "cell_type": "code",
   "execution_count": 20,
   "metadata": {},
   "outputs": [],
   "source": [
    "class_names = ['T-shirt/top', 'Trouser', 'Pullover', 'Dress', 'Coat','Sandal', 'Shirt', 'Sneaker', 'Bag', 'Ankle boot']"
   ]
  },
  {
   "cell_type": "code",
   "execution_count": 25,
   "metadata": {},
   "outputs": [],
   "source": [
    "train_images = train_images / 255.0\n",
    "\n",
    "test_images = test_images / 255.0"
   ]
  },
  {
   "cell_type": "code",
   "execution_count": 27,
   "metadata": {},
   "outputs": [
    {
     "name": "stdout",
     "output_type": "stream",
     "text": [
      "[[0.         0.         0.         0.         0.         0.00392157\n",
      "  0.         0.         0.         0.         0.16078431 0.7372549\n",
      "  0.40392157 0.21176471 0.18823529 0.16862745 0.34117647 0.65882353\n",
      "  0.52156863 0.0627451  0.         0.         0.         0.\n",
      "  0.         0.         0.         0.        ]\n",
      " [0.         0.         0.         0.00392157 0.         0.\n",
      "  0.         0.19215686 0.53333333 0.85882353 0.84705882 0.89411765\n",
      "  0.9254902  1.         1.         1.         1.         0.85098039\n",
      "  0.84313725 0.99607843 0.90588235 0.62745098 0.17647059 0.\n",
      "  0.         0.         0.         0.        ]\n",
      " [0.         0.         0.         0.         0.         0.05490196\n",
      "  0.69019608 0.87058824 0.87843137 0.83137255 0.79607843 0.77647059\n",
      "  0.76862745 0.78431373 0.84313725 0.8        0.79215686 0.78823529\n",
      "  0.78823529 0.78823529 0.81960784 0.85490196 0.87843137 0.64313725\n",
      "  0.         0.         0.         0.        ]\n",
      " [0.         0.         0.         0.         0.         0.7372549\n",
      "  0.85882353 0.78431373 0.77647059 0.79215686 0.77647059 0.78039216\n",
      "  0.78039216 0.78823529 0.76862745 0.77647059 0.77647059 0.78431373\n",
      "  0.78431373 0.78431373 0.78431373 0.78823529 0.78431373 0.88235294\n",
      "  0.16078431 0.         0.         0.        ]\n",
      " [0.         0.         0.         0.         0.2        0.85882353\n",
      "  0.78039216 0.79607843 0.79607843 0.83137255 0.93333333 0.97254902\n",
      "  0.98039216 0.96078431 0.97647059 0.96470588 0.96862745 0.98823529\n",
      "  0.97254902 0.92156863 0.81176471 0.79607843 0.79607843 0.87058824\n",
      "  0.54901961 0.         0.         0.        ]\n",
      " [0.         0.         0.         0.         0.45490196 0.88627451\n",
      "  0.80784314 0.8        0.81176471 0.8        0.39607843 0.29411765\n",
      "  0.18431373 0.28627451 0.18823529 0.19607843 0.17647059 0.2\n",
      "  0.24705882 0.44313725 0.87058824 0.79215686 0.80784314 0.8627451\n",
      "  0.87843137 0.         0.         0.        ]\n",
      " [0.         0.         0.         0.         0.78431373 0.87058824\n",
      "  0.81960784 0.79607843 0.84313725 0.78431373 0.         0.2745098\n",
      "  0.38431373 0.         0.40392157 0.23137255 0.26666667 0.27843137\n",
      "  0.19215686 0.         0.85882353 0.80784314 0.83921569 0.82352941\n",
      "  0.98039216 0.14901961 0.         0.        ]\n",
      " [0.         0.         0.         0.         0.96862745 0.85490196\n",
      "  0.83137255 0.82352941 0.84313725 0.83921569 0.         0.99607843\n",
      "  0.95294118 0.54509804 1.         0.68235294 0.98431373 1.\n",
      "  0.80392157 0.         0.84313725 0.85098039 0.83921569 0.81568627\n",
      "  0.8627451  0.37254902 0.         0.        ]\n",
      " [0.         0.         0.         0.17647059 0.88627451 0.83921569\n",
      "  0.83921569 0.84313725 0.87843137 0.80392157 0.         0.16470588\n",
      "  0.1372549  0.23529412 0.0627451  0.06666667 0.04705882 0.05098039\n",
      "  0.2745098  0.         0.74117647 0.84705882 0.83137255 0.80784314\n",
      "  0.83137255 0.61176471 0.         0.        ]\n",
      " [0.         0.         0.         0.64313725 0.92156863 0.83921569\n",
      "  0.82745098 0.8627451  0.84705882 0.78823529 0.20392157 0.27843137\n",
      "  0.34901961 0.36862745 0.3254902  0.30588235 0.2745098  0.29803922\n",
      "  0.36078431 0.34117647 0.80784314 0.81176471 0.87058824 0.83529412\n",
      "  0.85882353 0.81568627 0.         0.        ]\n",
      " [0.         0.         0.         0.41568627 0.73333333 0.8745098\n",
      "  0.92941176 0.97254902 0.82745098 0.77647059 0.98823529 0.98039216\n",
      "  0.97254902 0.96078431 0.97254902 0.98823529 0.99215686 0.98039216\n",
      "  0.98823529 0.9372549  0.78823529 0.83137255 0.88235294 0.84313725\n",
      "  0.75686275 0.44313725 0.         0.        ]\n",
      " [0.         0.         0.         0.         0.         0.06666667\n",
      "  0.21176471 0.62352941 0.87058824 0.75686275 0.81568627 0.75294118\n",
      "  0.77254902 0.78431373 0.78431373 0.78431373 0.78431373 0.78823529\n",
      "  0.79607843 0.76470588 0.82352941 0.64705882 0.         0.\n",
      "  0.         0.         0.         0.        ]\n",
      " [0.         0.         0.         0.         0.         0.\n",
      "  0.         0.18431373 0.88235294 0.75294118 0.83921569 0.79607843\n",
      "  0.80784314 0.8        0.8        0.80392157 0.80784314 0.8\n",
      "  0.83137255 0.77254902 0.85490196 0.41960784 0.         0.\n",
      "  0.         0.         0.         0.        ]\n",
      " [0.         0.         0.         0.         0.00392157 0.02352941\n",
      "  0.         0.18039216 0.83137255 0.76470588 0.83137255 0.79215686\n",
      "  0.80784314 0.80392157 0.8        0.80392157 0.80784314 0.8\n",
      "  0.83137255 0.78431373 0.85490196 0.35686275 0.         0.01176471\n",
      "  0.00392157 0.         0.         0.        ]\n",
      " [0.         0.         0.         0.         0.         0.00392157\n",
      "  0.         0.04313725 0.77254902 0.78039216 0.80392157 0.79215686\n",
      "  0.80392157 0.80784314 0.8        0.80392157 0.81176471 0.8\n",
      "  0.80392157 0.80392157 0.85490196 0.30196078 0.         0.01960784\n",
      "  0.         0.         0.         0.        ]\n",
      " [0.         0.         0.         0.         0.         0.01176471\n",
      "  0.         0.00784314 0.74901961 0.77647059 0.78823529 0.80392157\n",
      "  0.80784314 0.80392157 0.80392157 0.80784314 0.81960784 0.80784314\n",
      "  0.78039216 0.81960784 0.85882353 0.29019608 0.         0.01960784\n",
      "  0.         0.         0.         0.        ]\n",
      " [0.         0.         0.         0.         0.         0.00784314\n",
      "  0.         0.         0.7372549  0.77254902 0.78431373 0.81176471\n",
      "  0.81176471 0.8        0.81176471 0.81176471 0.82352941 0.81568627\n",
      "  0.77647059 0.81176471 0.86666667 0.28235294 0.         0.01568627\n",
      "  0.         0.         0.         0.        ]\n",
      " [0.         0.         0.         0.         0.         0.00784314\n",
      "  0.         0.         0.84313725 0.77647059 0.79607843 0.80784314\n",
      "  0.81568627 0.80392157 0.81176471 0.81176471 0.82352941 0.81568627\n",
      "  0.78431373 0.79215686 0.87058824 0.29411765 0.         0.01568627\n",
      "  0.         0.         0.         0.        ]\n",
      " [0.         0.         0.         0.         0.         0.00392157\n",
      "  0.         0.         0.83137255 0.77647059 0.81960784 0.80784314\n",
      "  0.81960784 0.80784314 0.81568627 0.81176471 0.82745098 0.80784314\n",
      "  0.80392157 0.77647059 0.86666667 0.31372549 0.         0.01176471\n",
      "  0.         0.         0.         0.        ]\n",
      " [0.         0.         0.         0.         0.         0.00392157\n",
      "  0.         0.         0.8        0.78823529 0.80392157 0.81568627\n",
      "  0.81176471 0.80392157 0.82745098 0.80392157 0.82352941 0.82352941\n",
      "  0.81960784 0.76470588 0.86666667 0.37647059 0.         0.01176471\n",
      "  0.         0.         0.         0.        ]\n",
      " [0.         0.         0.         0.         0.         0.00392157\n",
      "  0.         0.         0.79215686 0.78823529 0.80392157 0.81960784\n",
      "  0.81176471 0.80392157 0.83529412 0.80784314 0.82352941 0.81960784\n",
      "  0.82352941 0.76078431 0.85098039 0.41176471 0.         0.00784314\n",
      "  0.         0.         0.         0.        ]\n",
      " [0.         0.         0.         0.         0.         0.00392157\n",
      "  0.         0.         0.8        0.8        0.80392157 0.81568627\n",
      "  0.81176471 0.80392157 0.84313725 0.81176471 0.82352941 0.81568627\n",
      "  0.82745098 0.75686275 0.83529412 0.45098039 0.         0.00784314\n",
      "  0.         0.         0.         0.        ]\n",
      " [0.         0.         0.         0.         0.         0.\n",
      "  0.         0.         0.8        0.81176471 0.81176471 0.81568627\n",
      "  0.80784314 0.80784314 0.84313725 0.82352941 0.82352941 0.81176471\n",
      "  0.83137255 0.76470588 0.82352941 0.4627451  0.         0.00784314\n",
      "  0.         0.         0.         0.        ]\n",
      " [0.         0.         0.         0.         0.         0.00392157\n",
      "  0.         0.         0.77647059 0.81568627 0.81568627 0.81568627\n",
      "  0.8        0.81176471 0.83137255 0.83137255 0.82352941 0.81176471\n",
      "  0.82745098 0.76862745 0.81176471 0.4745098  0.         0.00392157\n",
      "  0.         0.         0.         0.        ]\n",
      " [0.         0.         0.         0.         0.         0.00392157\n",
      "  0.         0.         0.77647059 0.82352941 0.81176471 0.81568627\n",
      "  0.80784314 0.81960784 0.83529412 0.83137255 0.82745098 0.81176471\n",
      "  0.82352941 0.77254902 0.81176471 0.48627451 0.         0.00392157\n",
      "  0.         0.         0.         0.        ]\n",
      " [0.         0.         0.         0.         0.         0.\n",
      "  0.         0.         0.6745098  0.82352941 0.79607843 0.78823529\n",
      "  0.78039216 0.8        0.81176471 0.80392157 0.8        0.78823529\n",
      "  0.80392157 0.77254902 0.80784314 0.49803922 0.         0.\n",
      "  0.         0.         0.         0.        ]\n",
      " [0.         0.         0.         0.         0.         0.\n",
      "  0.         0.         0.7372549  0.86666667 0.83921569 0.91764706\n",
      "  0.9254902  0.93333333 0.95686275 0.95686275 0.95686275 0.94117647\n",
      "  0.95294118 0.83921569 0.87843137 0.63529412 0.         0.00784314\n",
      "  0.         0.         0.         0.        ]\n",
      " [0.         0.         0.         0.         0.         0.00392157\n",
      "  0.         0.         0.54509804 0.57254902 0.50980392 0.52941176\n",
      "  0.52941176 0.5372549  0.49019608 0.48627451 0.49019608 0.4745098\n",
      "  0.46666667 0.44705882 0.50980392 0.29803922 0.         0.\n",
      "  0.         0.         0.         0.        ]]\n"
     ]
    }
   ],
   "source": [
    "print(train_images[1])"
   ]
  },
  {
   "cell_type": "code",
   "execution_count": 28,
   "metadata": {},
   "outputs": [],
   "source": [
    "model = keras.Sequential([\n",
    "    keras.layers.Flatten(input_shape = (28,28)),\n",
    "    keras.layers.Dense(128, activation='relu'),\n",
    "    keras.layers.Dense(10, activation='softmax')\n",
    "])"
   ]
  },
  {
   "cell_type": "code",
   "execution_count": 29,
   "metadata": {},
   "outputs": [],
   "source": [
    "model.compile(optimizer = 'adam',\n",
    "            loss = 'sparse_categorical_crossentropy',\n",
    "            metrics = ['accuracy'])"
   ]
  },
  {
   "cell_type": "code",
   "execution_count": 32,
   "metadata": {},
   "outputs": [
    {
     "name": "stdout",
     "output_type": "stream",
     "text": [
      "Epoch 1/7\n",
      "1875/1875 [==============================] - 7s 4ms/step - loss: 0.2341 - accuracy: 0.9123\n",
      "Epoch 2/7\n",
      "1875/1875 [==============================] - 9s 5ms/step - loss: 0.2237 - accuracy: 0.9155\n",
      "Epoch 3/7\n",
      "1875/1875 [==============================] - 9s 5ms/step - loss: 0.2184 - accuracy: 0.9184\n",
      "Epoch 4/7\n",
      "1875/1875 [==============================] - 6s 3ms/step - loss: 0.2101 - accuracy: 0.9211\n",
      "Epoch 5/7\n",
      "1875/1875 [==============================] - 6s 3ms/step - loss: 0.2065 - accuracy: 0.9233\n",
      "Epoch 6/7\n",
      "1875/1875 [==============================] - 6s 3ms/step - loss: 0.1996 - accuracy: 0.9259\n",
      "Epoch 7/7\n",
      "1875/1875 [==============================] - 6s 3ms/step - loss: 0.1933 - accuracy: 0.9271\n"
     ]
    },
    {
     "data": {
      "text/plain": [
       "<keras.callbacks.History at 0x182bc856850>"
      ]
     },
     "execution_count": 32,
     "metadata": {},
     "output_type": "execute_result"
    }
   ],
   "source": [
    "model.fit(train_images, train_labels, epochs=7)"
   ]
  },
  {
   "cell_type": "code",
   "execution_count": 33,
   "metadata": {},
   "outputs": [
    {
     "name": "stdout",
     "output_type": "stream",
     "text": [
      "313/313 [==============================] - 1s 2ms/step - loss: 0.3509 - accuracy: 0.8861\n",
      "Test accuracy: 0.8860999941825867\n"
     ]
    }
   ],
   "source": [
    "test_loss, test_acc = model.evaluate(test_images,  test_labels, verbose=1) \n",
    "\n",
    "print('Test accuracy:', test_acc)"
   ]
  },
  {
   "cell_type": "code",
   "execution_count": 34,
   "metadata": {},
   "outputs": [
    {
     "name": "stdout",
     "output_type": "stream",
     "text": [
      "313/313 [==============================] - 1s 3ms/step\n"
     ]
    }
   ],
   "source": [
    "predictions = model.predict(test_images)"
   ]
  },
  {
   "cell_type": "code",
   "execution_count": 35,
   "metadata": {},
   "outputs": [
    {
     "data": {
      "text/plain": [
       "array([4.0775124e-08, 1.1123223e-10, 4.0466372e-08, 1.5541080e-10,\n",
       "       2.0040839e-11, 1.4763146e-05, 2.2066378e-07, 3.0983568e-03,\n",
       "       5.9419686e-10, 9.9688655e-01], dtype=float32)"
      ]
     },
     "execution_count": 35,
     "metadata": {},
     "output_type": "execute_result"
    }
   ],
   "source": [
    "predictions[0]"
   ]
  },
  {
   "cell_type": "code",
   "execution_count": 37,
   "metadata": {},
   "outputs": [
    {
     "data": {
      "text/plain": [
       "2"
      ]
     },
     "execution_count": 37,
     "metadata": {},
     "output_type": "execute_result"
    }
   ],
   "source": [
    "np.argmax(predictions[1])"
   ]
  },
  {
   "cell_type": "code",
   "execution_count": 38,
   "metadata": {},
   "outputs": [
    {
     "data": {
      "text/plain": [
       "2"
      ]
     },
     "execution_count": 38,
     "metadata": {},
     "output_type": "execute_result"
    }
   ],
   "source": [
    "test_labels[1]"
   ]
  },
  {
   "cell_type": "code",
   "execution_count": 47,
   "metadata": {},
   "outputs": [
    {
     "name": "stdout",
     "output_type": "stream",
     "text": [
      "1/1 [==============================] - 0s 36ms/step\n"
     ]
    },
    {
     "data": {
      "image/png": "[encoded data removed]",
      "text/plain": [
       "<Figure size 432x288 with 2 Axes>"
      ]
     },
     "metadata": {
      "needs_background": "light"
     },
     "output_type": "display_data"
    }
   ],
   "source": [
    "COLOR = 'white'\n",
    "plt.rcParams['text.color'] = COLOR\n",
    "plt.rcParams['axes.labelcolor'] = COLOR\n",
    "\n",
    "def predict(model, image, correct_label):\n",
    "  class_names = ['T-shirt/top', 'Trouser', 'Pullover', 'Dress', 'Coat',\n",
    "               'Sandal', 'Shirt', 'Sneaker', 'Bag', 'Ankle boot']\n",
    "  prediction = model.predict(np.array([image]))\n",
    "  predicted_class = class_names[np.argmax(prediction)]\n",
    "\n",
    "  show_image(image, class_names[correct_label], predicted_class)\n",
    "\n",
    "\n",
    "def show_image(img, label, guess):\n",
    "  plt.figure()\n",
    "  plt.imshow(img, cmap=plt.cm.binary)\n",
    "  plt.title(\"Excpected: \" + label)\n",
    "  plt.xlabel(\"Guess: \" + guess)\n",
    "  plt.colorbar()\n",
    "  plt.grid(False)\n",
    "  plt.show()\n",
    "\n",
    "\n",
    "def get_number():\n",
    "  while True:\n",
    "    num = input(\"Pick a number: \")\n",
    "    if num.isdigit():\n",
    "      num = int(num)\n",
    "      if 0 <= num <= 1000:\n",
    "        return int(num)\n",
    "    else:\n",
    "      print(\"Try again...\")\n",
    "\n",
    "num = get_number()\n",
    "image = test_images[num]\n",
    "label = test_labels[num]\n",
    "predict(model, image, label)\n"
   ]
  },
  {
   "cell_type": "code",
   "execution_count": null,
   "metadata": {},
   "outputs": [],
   "source": []
  }
 ],
 "metadata": {
  "kernelspec": {
   "display_name": "base",
   "language": "python",
   "name": "python3"
  },
  "language_info": {
   "codemirror_mode": {
    "name": "ipython",
    "version": 3
   },
   "file_extension": ".py",
   "mimetype": "text/x-python",
   "name": "python",
   "nbconvert_exporter": "python",
   "pygments_lexer": "ipython3",
   "version": "3.8.8"
  }
 },
 "nbformat": 4,
 "nbformat_minor": 2
}
